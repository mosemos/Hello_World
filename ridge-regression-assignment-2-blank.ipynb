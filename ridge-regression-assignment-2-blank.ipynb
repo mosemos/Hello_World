{
 "cells": [
  {
   "cell_type": "markdown",
   "metadata": {
    "nbpresent": {
     "id": "42d1fdd0-de3e-48ab-9114-5cfb83aee4bc"
    }
   },
   "source": [
    "# Regression Week 4: Ridge Regression (gradient descent)"
   ]
  },
  {
   "cell_type": "markdown",
   "metadata": {
    "nbpresent": {
     "id": "53584c84-bff3-46ba-8ba9-71fa916893b0"
    }
   },
   "source": [
    "In this notebook, you will implement ridge regression via gradient descent. You will:\n",
    "* Convert an SFrame into a Numpy array\n",
    "* Write a Numpy function to compute the derivative of the regression weights with respect to a single feature\n",
    "* Write gradient descent function to compute the regression weights given an initial weight vector, step size, tolerance, and L2 penalty"
   ]
  },
  {
   "cell_type": "markdown",
   "metadata": {
    "nbpresent": {
     "id": "93a7a4e4-1e41-4211-88de-f5542fd52ed7"
    }
   },
   "source": [
    "# Fire up graphlab create"
   ]
  },
  {
   "cell_type": "markdown",
   "metadata": {
    "nbpresent": {
     "id": "ed217100-a516-47fd-b614-1bdb81799736"
    }
   },
   "source": [
    "Make sure you have the latest version of GraphLab Create (>= 1.7)"
   ]
  },
  {
   "cell_type": "code",
   "execution_count": 34,
   "metadata": {
    "collapsed": false,
    "nbpresent": {
     "id": "a304b0dd-3f74-463c-a424-6a8819f8fd50"
    }
   },
   "outputs": [],
   "source": [
    "import graphlab"
   ]
  },
  {
   "cell_type": "markdown",
   "metadata": {
    "nbpresent": {
     "id": "18cab202-bc69-4d82-ba59-caed5f9f5047"
    }
   },
   "source": [
    "# Load in house sales data\n",
    "\n",
    "Dataset is from house sales in King County, the region where the city of Seattle, WA is located."
   ]
  },
  {
   "cell_type": "code",
   "execution_count": 35,
   "metadata": {
    "collapsed": false,
    "nbpresent": {
     "id": "b16d440b-2acf-401e-adcf-3946e8ede1f8"
    }
   },
   "outputs": [],
   "source": [
    "sales = graphlab.SFrame('kc_house_data.gl/')"
   ]
  },
  {
   "cell_type": "markdown",
   "metadata": {
    "nbpresent": {
     "id": "cc75003e-7d31-423a-88ae-a68d32d08136"
    }
   },
   "source": [
    "If we want to do any \"feature engineering\" like creating new features or adjusting existing ones we should do this directly using the SFrames as seen in the first notebook of Week 2. For this notebook, however, we will work with the existing features."
   ]
  },
  {
   "cell_type": "markdown",
   "metadata": {
    "nbpresent": {
     "id": "5f1dc4db-f919-4060-84ff-d677f45171f2"
    }
   },
   "source": [
    "# Import useful functions from previous notebook"
   ]
  },
  {
   "cell_type": "markdown",
   "metadata": {
    "nbpresent": {
     "id": "d0bc45b9-13c9-43bc-a74b-b3d40921e962"
    }
   },
   "source": [
    "As in Week 2, we convert the SFrame into a 2D Numpy array. Copy and paste `get_numpy_data()` from the second notebook of Week 2."
   ]
  },
  {
   "cell_type": "code",
   "execution_count": 36,
   "metadata": {
    "collapsed": true,
    "nbpresent": {
     "id": "b301db00-07cb-408d-8273-fc02b6bf19b7"
    }
   },
   "outputs": [],
   "source": [
    "import numpy as np # note this allows us to refer to numpy as np instead "
   ]
  },
  {
   "cell_type": "code",
   "execution_count": 37,
   "metadata": {
    "collapsed": true,
    "nbpresent": {
     "id": "79dd1181-2a8f-4edc-ab2a-8ae48d90a4fa"
    }
   },
   "outputs": [],
   "source": [
    "def get_numpy_data(data_sframe, features, output):\n",
    "    data_sframe['constant'] = 1 # add a constant column to an SFrame\n",
    "    # prepend variable 'constant' to the features list\n",
    "    features = ['constant'] + features\n",
    "    # select the columns of data_SFrame given by the ‘features’ list into the SFrame ‘features_sframe’\n",
    "    features_sframe = data_sframe[features]\n",
    "    # this will convert the features_sframe into a numpy matrix with GraphLab Create >= 1.7!!\n",
    "    features_matrix = features_sframe.to_numpy()\n",
    "    # assign the column of data_sframe associated with the target to the variable ‘output_sarray’\n",
    "    output_sarray = data_sframe[output]\n",
    "    # this will convert the SArray into a numpy array:\n",
    "    output_array = output_sarray.to_numpy() # GraphLab Create>= 1.7!!\n",
    "    return(features_matrix, output_array)"
   ]
  },
  {
   "cell_type": "markdown",
   "metadata": {
    "nbpresent": {
     "id": "02b30995-d8ff-4b31-8011-930429a338a2"
    }
   },
   "source": [
    "Also, copy and paste the `predict_output()` function to compute the predictions for an entire matrix of features given the matrix and the weights:"
   ]
  },
  {
   "cell_type": "code",
   "execution_count": 38,
   "metadata": {
    "collapsed": true,
    "nbpresent": {
     "id": "bec00f00-f1e1-49c9-9c37-e9ee868a6c70"
    }
   },
   "outputs": [],
   "source": [
    "def predict_output(feature_matrix, weights):\n",
    "    predictions = np.dot(feature_matrix, weights)\n",
    "    return(predictions)"
   ]
  },
  {
   "cell_type": "markdown",
   "metadata": {
    "nbpresent": {
     "id": "4ee7242e-24cb-4e0e-bd69-e338e5d9860e"
    }
   },
   "source": [
    "# Computing the Derivative"
   ]
  },
  {
   "cell_type": "markdown",
   "metadata": {
    "nbpresent": {
     "id": "a1a0c32b-c94c-4df2-80fe-3ac6906fa33b"
    }
   },
   "source": [
    "We are now going to move to computing the derivative of the regression cost function. Recall that the cost function is the sum over the data points of the squared difference between an observed output and a predicted output, plus the L2 penalty term.\n",
    "```\n",
    "Cost(w)\n",
    "= SUM[ (prediction - output)^2 ]\n",
    "+ l2_penalty*(w[0]^2 + w[1]^2 + ... + w[k]^2).\n",
    "```\n",
    "\n",
    "Since the derivative of a sum is the sum of the derivatives, we can take the derivative of the first part (the RSS) as we did in the notebook for the unregularized case in Week 2 and add the derivative of the regularization part.  As we saw, the derivative of the RSS with respect to `w[i]` can be written as: \n",
    "```\n",
    "2*SUM[ error*[feature_i] ].\n",
    "```\n",
    "The derivative of the regularization term with respect to `w[i]` is:\n",
    "```\n",
    "2*l2_penalty*w[i].\n",
    "```\n",
    "Summing both, we get\n",
    "```\n",
    "2*SUM[ error*[feature_i] ] + 2*l2_penalty*w[i].\n",
    "```\n",
    "That is, the derivative for the weight for feature i is the sum (over data points) of 2 times the product of the error and the feature itself, plus `2*l2_penalty*w[i]`. \n",
    "\n",
    "**We will not regularize the constant.**  Thus, in the case of the constant, the derivative is just twice the sum of the errors (without the `2*l2_penalty*w[0]` term).\n",
    "\n",
    "Recall that twice the sum of the product of two vectors is just twice the dot product of the two vectors. Therefore the derivative for the weight for feature_i is just two times the dot product between the values of feature_i and the current errors, plus `2*l2_penalty*w[i]`.\n",
    "\n",
    "With this in mind complete the following derivative function which computes the derivative of the weight given the value of the feature (over all data points) and the errors (over all data points).  To decide when to we are dealing with the constant (so we don't regularize it) we added the extra parameter to the call `feature_is_constant` which you should set to `True` when computing the derivative of the constant and `False` otherwise."
   ]
  },
  {
   "cell_type": "code",
   "execution_count": 39,
   "metadata": {
    "collapsed": false,
    "nbpresent": {
     "id": "959e57e5-1101-44f7-85fc-5108f6697916"
    }
   },
   "outputs": [],
   "source": [
    "def feature_derivative_ridge(errors, feature, weight, l2_penalty, feature_is_constant):\n",
    "    # If feature_is_constant is True, derivative is twice the dot product of errors and feature\n",
    "    if(feature_is_constant):\n",
    "        return 2 * np.dot(errors, feature)\n",
    "    # Otherwise, derivative is twice the dot product plus 2*l2_penalty*weight\n",
    "    return (2 * np.dot(errors, feature)) + (2 * l2_penalty * weight)\n"
   ]
  },
  {
   "cell_type": "markdown",
   "metadata": {
    "nbpresent": {
     "id": "d788d7dc-f076-48b5-9d0f-dfc3573f8c8b"
    }
   },
   "source": [
    "To test your feature derivartive run the following:"
   ]
  },
  {
   "cell_type": "code",
   "execution_count": 40,
   "metadata": {
    "collapsed": false,
    "nbpresent": {
     "id": "36a1619d-3d77-48d1-a476-6c1b9b90fcd3"
    }
   },
   "outputs": [
    {
     "name": "stdout",
     "output_type": "stream",
     "text": [
      "-5.65541667824e+13\n",
      "-5.65541667824e+13\n",
      "\n",
      "-22446749336.0\n",
      "-22446749336.0\n"
     ]
    }
   ],
   "source": [
    "(example_features, example_output) = get_numpy_data(sales, ['sqft_living'], 'price') \n",
    "my_weights = np.array([1., 10.])\n",
    "test_predictions = predict_output(example_features, my_weights) \n",
    "errors = test_predictions - example_output # prediction errors\n",
    "\n",
    "# next two lines should print the same values\n",
    "print feature_derivative_ridge(errors, example_features[:,1], my_weights[1], 1, False)\n",
    "print np.sum(errors*example_features[:,1])*2+20.\n",
    "print ''\n",
    "\n",
    "# next two lines should print the same values\n",
    "print feature_derivative_ridge(errors, example_features[:,0], my_weights[0], 1, True)\n",
    "print np.sum(errors)*2."
   ]
  },
  {
   "cell_type": "markdown",
   "metadata": {
    "nbpresent": {
     "id": "7e3ca1fe-eec8-4e82-9339-0e6bc0da940c"
    }
   },
   "source": [
    "# Gradient Descent"
   ]
  },
  {
   "cell_type": "markdown",
   "metadata": {
    "nbpresent": {
     "id": "824f1d5b-acf0-41ab-97c0-14fb35d80fd9"
    }
   },
   "source": [
    "Now we will write a function that performs a gradient descent. The basic premise is simple. Given a starting point we update the current weights by moving in the negative gradient direction. Recall that the gradient is the direction of *increase* and therefore the negative gradient is the direction of *decrease* and we're trying to *minimize* a cost function. \n",
    "\n",
    "The amount by which we move in the negative gradient *direction*  is called the 'step size'. We stop when we are 'sufficiently close' to the optimum. Unlike in Week 2, this time we will set a **maximum number of iterations** and take gradient steps until we reach this maximum number. If no maximum number is supplied, the maximum should be set 100 by default. (Use default parameter values in Python.)\n",
    "\n",
    "With this in mind, complete the following gradient descent function below using your derivative function above. For each step in the gradient descent, we update the weight for each feature before computing our stopping criteria."
   ]
  },
  {
   "cell_type": "code",
   "execution_count": 109,
   "metadata": {
    "collapsed": false,
    "nbpresent": {
     "id": "7daf6285-f054-447d-88ff-5805209b4520"
    }
   },
   "outputs": [],
   "source": [
    "def ridge_regression_gradient_descent(feature_matrix, output, initial_weights, step_size, l2_penalty, max_iterations=1000):\n",
    "    weights = np.array(initial_weights) # make sure it's a numpy array\n",
    "    iteration = 0\n",
    "    #while not reached maximum number of iterations:\n",
    "    while(iteration < max_iterations):    \n",
    "        # compute the predictions based on feature_matrix and weights using your predict_output() function\n",
    "        predictions = predict_output(feature_matrix, weights=weights)\n",
    "        \n",
    "        # compute the errors as predictions - output\n",
    "        errors = predictions - output\n",
    "\n",
    "        for i in xrange(len(weights)): # loop over each weight\n",
    "            # Recall that feature_matrix[:,i] is the feature column associated with weights[i]\n",
    "            # compute the derivative for weight[i].\n",
    "            #(Remember: when i=0, you are computing the derivative of the constant!)\n",
    "            derivative = 0\n",
    "            if(i == 0):\n",
    "                derivative = feature_derivative_ridge(errors, feature_matrix[:,i], weights[i], l2_penalty, True)\n",
    "            else:\n",
    "                derivative = feature_derivative_ridge(errors, feature_matrix[:,i], weights[i], l2_penalty, False)\n",
    "            \n",
    "            # subtract the step size times the derivative from the current weight\n",
    "            weights[i] = weights[i] - step_size * derivative\n",
    "            \n",
    "        iteration += 1\n",
    "    \n",
    "    return weights"
   ]
  },
  {
   "cell_type": "markdown",
   "metadata": {
    "nbpresent": {
     "id": "37c6e866-4de8-4835-8c61-b0f339d8777e"
    }
   },
   "source": [
    "# Visualizing effect of L2 penalty"
   ]
  },
  {
   "cell_type": "markdown",
   "metadata": {
    "nbpresent": {
     "id": "bf889043-c46d-4dec-8a33-9d3818d33789"
    }
   },
   "source": [
    "The L2 penalty gets its name because it causes weights to have small L2 norms than otherwise. Let's see how large weights get penalized. Let us consider a simple model with 1 feature:"
   ]
  },
  {
   "cell_type": "code",
   "execution_count": 110,
   "metadata": {
    "collapsed": true,
    "nbpresent": {
     "id": "7a2567a4-4c90-4bce-ac49-a4f3a503be04"
    }
   },
   "outputs": [],
   "source": [
    "simple_features = ['sqft_living']\n",
    "my_output = 'price'"
   ]
  },
  {
   "cell_type": "markdown",
   "metadata": {
    "nbpresent": {
     "id": "36fb0966-f36f-4ac4-9f39-3a364e9f77a2"
    }
   },
   "source": [
    "Let us split the dataset into training set and test set. Make sure to use `seed=0`:"
   ]
  },
  {
   "cell_type": "code",
   "execution_count": 111,
   "metadata": {
    "collapsed": true,
    "nbpresent": {
     "id": "f7d10f04-1e8c-4c20-8832-dd203d2097fe"
    }
   },
   "outputs": [],
   "source": [
    "train_data,test_data = sales.random_split(.8,seed=0)"
   ]
  },
  {
   "cell_type": "markdown",
   "metadata": {
    "nbpresent": {
     "id": "d9df0e0d-1475-4370-9209-d25741d44e00"
    }
   },
   "source": [
    "In this part, we will only use `'sqft_living'` to predict `'price'`. Use the `get_numpy_data` function to get a Numpy versions of your data with only this feature, for both the `train_data` and the `test_data`. "
   ]
  },
  {
   "cell_type": "code",
   "execution_count": 112,
   "metadata": {
    "collapsed": true,
    "nbpresent": {
     "id": "213f2dae-d462-4a8d-91a1-cff14db9be36"
    }
   },
   "outputs": [],
   "source": [
    "(simple_feature_matrix, output) = get_numpy_data(train_data, simple_features, my_output)\n",
    "(simple_test_feature_matrix, test_output) = get_numpy_data(test_data, simple_features, my_output)"
   ]
  },
  {
   "cell_type": "markdown",
   "metadata": {
    "nbpresent": {
     "id": "5b86f151-99ae-4d4c-a386-16cad38379a7"
    }
   },
   "source": [
    "Let's set the parameters for our optimization:"
   ]
  },
  {
   "cell_type": "code",
   "execution_count": 113,
   "metadata": {
    "collapsed": true,
    "nbpresent": {
     "id": "8e49387b-0a2b-489e-8576-9b4a38b53a5a"
    }
   },
   "outputs": [],
   "source": [
    "initial_weights = np.array([0., 0.])\n",
    "step_size = 1e-12\n",
    "max_iterations=1000"
   ]
  },
  {
   "cell_type": "markdown",
   "metadata": {
    "nbpresent": {
     "id": "c80dc777-60bc-4409-82f1-926a972dc980"
    }
   },
   "source": [
    "First, let's consider no regularization.  Set the `l2_penalty` to `0.0` and run your ridge regression algorithm to learn the weights of your model.  Call your weights:\n",
    "\n",
    "`simple_weights_0_penalty`\n",
    "\n",
    "we'll use them later."
   ]
  },
  {
   "cell_type": "code",
   "execution_count": 114,
   "metadata": {
    "collapsed": false,
    "nbpresent": {
     "id": "abd7647f-4d53-4285-b743-23d47509d620"
    }
   },
   "outputs": [],
   "source": [
    "l2ZeroPenalty = 0\n",
    "simple_weights_0_penalty = ridge_regression_gradient_descent(simple_feature_matrix, output, initial_weights, step_size, l2ZeroPenalty, max_iterations)"
   ]
  },
  {
   "cell_type": "markdown",
   "metadata": {
    "nbpresent": {
     "id": "124cd262-5f0f-46d7-9bed-c972236f6f46"
    }
   },
   "source": [
    "Next, let's consider high regularization.  Set the `l2_penalty` to `1e11` and run your ridge regression algorithm to learn the weights of your model.  Call your weights:\n",
    "\n",
    "`simple_weights_high_penalty`\n",
    "\n",
    "we'll use them later."
   ]
  },
  {
   "cell_type": "code",
   "execution_count": 115,
   "metadata": {
    "collapsed": false,
    "nbpresent": {
     "id": "b581bd37-454e-4c3a-9d1a-74b1c51ad63d"
    }
   },
   "outputs": [],
   "source": [
    "l2HighPenalty = 1e11\n",
    "simple_weights_high_penalty = ridge_regression_gradient_descent(simple_feature_matrix, output, initial_weights, step_size, l2HighPenalty, max_iterations)"
   ]
  },
  {
   "cell_type": "markdown",
   "metadata": {
    "nbpresent": {
     "id": "734d75c2-000a-49c1-8234-2cce4e4d7158"
    }
   },
   "source": [
    "This code will plot the two learned models.  (The blue line is for the model with no regularization and the red line is for the one with high regularization.)"
   ]
  },
  {
   "cell_type": "code",
   "execution_count": 116,
   "metadata": {
    "collapsed": false,
    "nbpresent": {
     "id": "d91fb475-0c25-4724-b2ae-01f64b3e0288"
    }
   },
   "outputs": [
    {
     "data": {
      "text/plain": [
       "[<matplotlib.lines.Line2D at 0x7f360a8f7250>,\n",
       " <matplotlib.lines.Line2D at 0x7f360a8f7350>,\n",
       " <matplotlib.lines.Line2D at 0x7f360a8f7510>,\n",
       " <matplotlib.lines.Line2D at 0x7f360a904110>,\n",
       " <matplotlib.lines.Line2D at 0x7f360a904250>,\n",
       " <matplotlib.lines.Line2D at 0x7f360a904d90>,\n",
       " <matplotlib.lines.Line2D at 0x7f360a904ed0>,\n",
       " <matplotlib.lines.Line2D at 0x7f360a890a50>]"
      ]
     },
     "execution_count": 116,
     "metadata": {},
     "output_type": "execute_result"
    },
    {
     "data": {
      "image/png": "[encoded data removed]",
      "text/plain": [
       "<matplotlib.figure.Figure at 0x7f360a967110>"
      ]
     },
     "metadata": {},
     "output_type": "display_data"
    }
   ],
   "source": [
    "import matplotlib.pyplot as plt\n",
    "%matplotlib inline\n",
    "plt.plot(simple_feature_matrix,output,'k.',\n",
    "         simple_feature_matrix,predict_output(simple_feature_matrix, initial_weights),'g-',\n",
    "         simple_feature_matrix,predict_output(simple_feature_matrix, simple_weights_0_penalty),'b-',\n",
    "        simple_feature_matrix,predict_output(simple_feature_matrix, simple_weights_high_penalty),'r-')"
   ]
  },
  {
   "cell_type": "markdown",
   "metadata": {
    "nbpresent": {
     "id": "5c6679e3-fc3e-4a51-ae28-fd65e62aae94"
    }
   },
   "source": [
    "Compute the RSS on the TEST data for the following three sets of weights:\n",
    "1. The initial weights (all zeros)\n",
    "2. The weights learned with no regularization\n",
    "3. The weights learned with high regularization\n",
    "\n",
    "Which weights perform best?"
   ]
  },
  {
   "cell_type": "code",
   "execution_count": 117,
   "metadata": {
    "collapsed": false,
    "nbpresent": {
     "id": "6786b92b-66ce-4f44-975c-59beaf02ab82"
    }
   },
   "outputs": [
    {
     "name": "stdout",
     "output_type": "stream",
     "text": [
      "1.78427328252e+15\n"
     ]
    }
   ],
   "source": [
    "def computeRssFromWeights(weights):\n",
    "    # get the output\n",
    "    output = predict_output(simple_test_feature_matrix, weights)\n",
    "    \n",
    "    # get diff between computer and actual output\n",
    "    errors = test_output - output\n",
    "    # computer RSS\n",
    "    rss = np.sum(np.square(errors))\n",
    "    return rss\n",
    "    \n",
    "print computeRssFromWeights(initial_weights)"
   ]
  },
  {
   "cell_type": "code",
   "execution_count": 118,
   "metadata": {
    "collapsed": false,
    "nbpresent": {
     "id": "2a5d56b3-cdc3-47cd-8f3f-f0763eb06f87"
    }
   },
   "outputs": [
    {
     "name": "stdout",
     "output_type": "stream",
     "text": [
      "2.75723634598e+14\n"
     ]
    }
   ],
   "source": [
    "print computeRssFromWeights(simple_weights_0_penalty)"
   ]
  },
  {
   "cell_type": "code",
   "execution_count": 119,
   "metadata": {
    "collapsed": false,
    "nbpresent": {
     "id": "bbe69307-aa5e-420f-8753-d0eaece285ee"
    }
   },
   "outputs": [
    {
     "name": "stdout",
     "output_type": "stream",
     "text": [
      "6.94642100914e+14\n"
     ]
    }
   ],
   "source": [
    "print computeRssFromWeights(simple_weights_high_penalty)"
   ]
  },
  {
   "cell_type": "markdown",
   "metadata": {
    "collapsed": false
   },
   "source": [
    "***QUIZ QUESTIONS***\n",
    "1. What is the value of the coefficient for `sqft_living` that you learned with no regularization, rounded to 1 decimal place?  What about the one with high regularization?\n",
    "\n",
    "2. Comparing the lines you fit with the with no regularization versus high regularization, which one is steeper?\n",
    "3. What are the RSS on the test data for each of the set of weights above (initial, no regularization, high regularization)? \n"
   ]
  },
  {
   "cell_type": "code",
   "execution_count": 120,
   "metadata": {
    "collapsed": false
   },
   "outputs": [
    {
     "name": "stdout",
     "output_type": "stream",
     "text": [
      "1. 263.0\n",
      "   124.6\n",
      "2. The one with high regularization (red)\n",
      "3. They are:\n",
      "   1.78427328252e+15\n",
      "   2.75723634598e+14\n",
      "   6.94642100914e+14\n"
     ]
    }
   ],
   "source": [
    "print(\"1. %.1f\" % simple_weights_0_penalty[1])\n",
    "print(\"   %.1f\" % simple_weights_high_penalty[1])\n",
    "\n",
    "print(\"2. The one with high regularization (red)\")\n",
    "\n",
    "print(\"3. They are:\")\n",
    "print \"  \", computeRssFromWeights(initial_weights)\n",
    "print \"  \", computeRssFromWeights(simple_weights_0_penalty)\n",
    "print \"  \", computeRssFromWeights(simple_weights_high_penalty)"
   ]
  },
  {
   "cell_type": "markdown",
   "metadata": {
    "nbpresent": {
     "id": "12c61a3f-a7a0-4da9-b5ef-67bf9f95d65c"
    }
   },
   "source": [
    "# Running a multiple regression with L2 penalty"
   ]
  },
  {
   "cell_type": "markdown",
   "metadata": {
    "nbpresent": {
     "id": "87e3529c-30b4-4779-9635-9e6f0fa78d5e"
    }
   },
   "source": [
    "Let us now consider a model with 2 features: `['sqft_living', 'sqft_living15']`."
   ]
  },
  {
   "cell_type": "markdown",
   "metadata": {
    "nbpresent": {
     "id": "4891e127-324c-4e91-985c-960ff5d75ae7"
    }
   },
   "source": [
    "First, create Numpy versions of your training and test data with these two features. "
   ]
  },
  {
   "cell_type": "code",
   "execution_count": 121,
   "metadata": {
    "collapsed": true,
    "nbpresent": {
     "id": "52b49a4f-9c6d-4a64-96b8-04a9ba4b9f54"
    }
   },
   "outputs": [],
   "source": [
    "model_features = ['sqft_living', 'sqft_living15'] # sqft_living15 is the average squarefeet for the nearest 15 neighbors. \n",
    "my_output = 'price'\n",
    "(feature_matrix, output) = get_numpy_data(train_data, model_features, my_output)\n",
    "(test_feature_matrix, test_output) = get_numpy_data(test_data, model_features, my_output)"
   ]
  },
  {
   "cell_type": "markdown",
   "metadata": {
    "nbpresent": {
     "id": "d4c60736-da9c-4ab3-b9f1-167eadca318e"
    }
   },
   "source": [
    "We need to re-inialize the weights, since we have one extra parameter. Let us also set the step size and maximum number of iterations."
   ]
  },
  {
   "cell_type": "code",
   "execution_count": 122,
   "metadata": {
    "collapsed": true,
    "nbpresent": {
     "id": "539473e8-6769-4447-b68c-8c18c0256cf3"
    }
   },
   "outputs": [],
   "source": [
    "initial_weights = np.array([0.0,0.0,0.0])\n",
    "step_size = 1e-12\n",
    "max_iterations = 1000"
   ]
  },
  {
   "cell_type": "markdown",
   "metadata": {
    "nbpresent": {
     "id": "8ff67d11-51cf-4cf1-9895-b998c008fed0"
    }
   },
   "source": [
    "First, let's consider no regularization.  Set the `l2_penalty` to `0.0` and run your ridge regression algorithm to learn the weights of your model.  Call your weights:\n",
    "\n",
    "`multiple_weights_0_penalty`"
   ]
  },
  {
   "cell_type": "code",
   "execution_count": 124,
   "metadata": {
    "collapsed": false,
    "nbpresent": {
     "id": "4b0ddd24-f892-4c7d-8959-ec92a83bf5e5"
    }
   },
   "outputs": [],
   "source": [
    "l2Penalty = 0.0\n",
    "multiple_weights_0_penalty = ridge_regression_gradient_descent(feature_matrix, output, initial_weights, step_size, l2Penalty, max_iterations)\n"
   ]
  },
  {
   "cell_type": "markdown",
   "metadata": {
    "nbpresent": {
     "id": "27c71ea2-5791-4459-a1dc-1bff4e2e53d5"
    }
   },
   "source": [
    "Next, let's consider high regularization.  Set the `l2_penalty` to `1e11` and run your ridge regression algorithm to learn the weights of your model.  Call your weights:\n",
    "\n",
    "`multiple_weights_high_penalty`"
   ]
  },
  {
   "cell_type": "code",
   "execution_count": 125,
   "metadata": {
    "collapsed": true,
    "nbpresent": {
     "id": "697004b8-be6a-4bf0-a1b1-52b026147b1e"
    }
   },
   "outputs": [],
   "source": [
    "l2HighPenalty = 1e11\n",
    "multiple_weights_high_penalty = ridge_regression_gradient_descent(feature_matrix, output, initial_weights, step_size, l2HighPenalty, max_iterations)"
   ]
  },
  {
   "cell_type": "markdown",
   "metadata": {
    "nbpresent": {
     "id": "634015de-5d69-4be0-bc85-04687e0d5e23"
    }
   },
   "source": [
    "Compute the RSS on the TEST data for the following three sets of weights:\n",
    "1. The initial weights (all zeros)\n",
    "2. The weights learned with no regularization\n",
    "3. The weights learned with high regularization\n",
    "\n",
    "Which weights perform best?"
   ]
  },
  {
   "cell_type": "code",
   "execution_count": 126,
   "metadata": {
    "collapsed": false,
    "nbpresent": {
     "id": "22566dbb-5b27-4bc2-b2f0-b6f47106ac12"
    }
   },
   "outputs": [
    {
     "name": "stdout",
     "output_type": "stream",
     "text": [
      "1.78427328252e+15\n"
     ]
    }
   ],
   "source": [
    "def computeRssFromMultipleWeights(weights):\n",
    "    # get the output\n",
    "    output = predict_output(test_feature_matrix, weights)\n",
    "    \n",
    "    # get diff between computer and actual output\n",
    "    errors = test_output - output\n",
    "    # computer RSS\n",
    "    rss = np.sum(np.square(errors))\n",
    "    return rss\n",
    "\n",
    "print computeRssFromMultipleWeights(initial_weights)"
   ]
  },
  {
   "cell_type": "code",
   "execution_count": 127,
   "metadata": {
    "collapsed": false,
    "nbpresent": {
     "id": "f93695b2-81aa-4aaa-a631-ad0c49912563"
    }
   },
   "outputs": [
    {
     "name": "stdout",
     "output_type": "stream",
     "text": [
      "2.74067618287e+14\n"
     ]
    }
   ],
   "source": [
    "print computeRssFromMultipleWeights(multiple_weights_0_penalty)"
   ]
  },
  {
   "cell_type": "code",
   "execution_count": 128,
   "metadata": {
    "collapsed": false,
    "nbpresent": {
     "id": "a6950245-a7da-4dde-9393-11b2947a6c5b"
    }
   },
   "outputs": [
    {
     "name": "stdout",
     "output_type": "stream",
     "text": [
      "5.0040480058e+14\n"
     ]
    }
   ],
   "source": [
    "print computeRssFromMultipleWeights(multiple_weights_high_penalty)"
   ]
  },
  {
   "cell_type": "markdown",
   "metadata": {
    "nbpresent": {
     "id": "b0ed3485-7f97-408a-9a91-6d80f42134f3"
    }
   },
   "source": [
    "Predict the house price for the 1st house in the test set using the no regularization and high regularization models. (Remember that python starts indexing from 0.) How far is the prediction from the actual price?  Which weights perform best for the 1st house?"
   ]
  },
  {
   "cell_type": "code",
   "execution_count": 133,
   "metadata": {
    "collapsed": false,
    "nbpresent": {
     "id": "47326541-8771-44ee-b760-26617fb2c4f9"
    }
   },
   "outputs": [
    {
     "name": "stdout",
     "output_type": "stream",
     "text": [
      "316839.415226\n",
      "310000.0\n",
      "diff is -6839.415226\n"
     ]
    }
   ],
   "source": [
    "thePrediction = np.dot(multiple_weights_0_penalty, feature_matrix[0])\n",
    "print thePrediction\n",
    "print test_output[0]\n",
    "print(\"diff is %f\" % (test_output[0] - thePrediction))"
   ]
  },
  {
   "cell_type": "code",
   "execution_count": 135,
   "metadata": {
    "collapsed": false,
    "nbpresent": {
     "id": "f551b44a-73cc-4d52-a9c9-596e2494b2f0"
    }
   },
   "outputs": [
    {
     "name": "stdout",
     "output_type": "stream",
     "text": [
      "213069.113322\n",
      "310000.0\n",
      "diff is 96930.886678\n"
     ]
    }
   ],
   "source": [
    "theSecondPrediction = np.dot(multiple_weights_high_penalty, feature_matrix[0])\n",
    "print theSecondPrediction\n",
    "print test_output[0]\n",
    "print(\"diff is %f\" % (test_output[0] - theSecondPrediction))"
   ]
  },
  {
   "cell_type": "code",
   "execution_count": 136,
   "metadata": {
    "collapsed": false
   },
   "outputs": [
    {
     "name": "stdout",
     "output_type": "stream",
     "text": [
      "The first one performs better\n"
     ]
    }
   ],
   "source": [
    "print \"The first one performs better\""
   ]
  },
  {
   "cell_type": "markdown",
   "metadata": {
    "collapsed": true,
    "nbpresent": {
     "id": "f62827c9-693d-49c2-8885-f9c1f423a9e4"
    }
   },
   "source": [
    "***QUIZ QUESTIONS***\n",
    "1. What is the value of the coefficient for `sqft_living` that you learned with no regularization, rounded to 1 decimal place?  What about the one with high regularization?\n",
    "2. What are the RSS on the test data for each of the set of weights above (initial, no regularization, high regularization)? \n",
    "3. We make prediction for the first house in the test set using two sets of weights (no regularization vs high regularization). Which weights make better prediction <u>for that particular house</u>?"
   ]
  },
  {
   "cell_type": "code",
   "execution_count": 138,
   "metadata": {
    "collapsed": false,
    "nbpresent": {
     "id": "f8172f7f-0e05-48aa-9455-ba41b0a07cad"
    }
   },
   "outputs": [
    {
     "name": "stdout",
     "output_type": "stream",
     "text": [
      "1. 243.1\n",
      "   91.5\n",
      "2. They are:\n",
      "   1.78427328252e+15\n",
      "   2.74067618287e+14\n",
      "   5.0040480058e+14\n",
      "3. The no regularization model predicts the first house better\n"
     ]
    }
   ],
   "source": [
    "print(\"1. %.1f\" % multiple_weights_0_penalty[1])\n",
    "print(\"   %.1f\" % multiple_weights_high_penalty[1])\n",
    "\n",
    "print(\"2. They are:\")\n",
    "print \"  \", computeRssFromMultipleWeights(initial_weights)\n",
    "print \"  \", computeRssFromMultipleWeights(multiple_weights_0_penalty)\n",
    "print \"  \", computeRssFromMultipleWeights(multiple_weights_high_penalty)\n",
    "\n",
    "print(\"3. The no regularization model predicts the first house better\")"
   ]
  }
 ],
 "metadata": {
  "anaconda-cloud": {},
  "kernelspec": {
   "display_name": "Python [conda env:python2]",
   "language": "python",
   "name": "conda-env-python2-py"
  },
  "language_info": {
   "codemirror_mode": {
    "name": "ipython",
    "version": 2
   },
   "file_extension": ".py",
   "mimetype": "text/x-python",
   "name": "python",
   "nbconvert_exporter": "python",
   "pygments_lexer": "ipython2",
   "version": "2.7.12"
  },
  "nbpresent": {
   "slides": {
    "049f7e46-3919-487c-b9e1-0a006addb15f": {
     "id": "049f7e46-3919-487c-b9e1-0a006addb15f",
     "prev": "8cff96cc-3e41-4fbb-a7dc-64982dd9b562",
     "regions": {
      "42bab664-59dd-4df1-a4a6-5ff94a6b4569": {
       "attrs": {
        "height": 0.8,
        "width": 0.8,
        "x": 0.1,
        "y": 0.1
       },
       "content": {
        "cell": "36a1619d-3d77-48d1-a476-6c1b9b90fcd3",
        "part": "whole"
       },
       "id": "42bab664-59dd-4df1-a4a6-5ff94a6b4569"
      }
     }
    },
    "0b84c39b-940e-4bef-935d-9a75c4d415f3": {
     "id": "0b84c39b-940e-4bef-935d-9a75c4d415f3",
     "prev": "87cd5b5c-4d18-43ef-9846-1a3f3aacdc55",
     "regions": {
      "4962925a-3799-425d-89b0-ccae3b281cd0": {
       "attrs": {
        "height": 0.8,
        "width": 0.8,
        "x": 0.1,
        "y": 0.1
       },
       "content": {
        "cell": "8e49387b-0a2b-489e-8576-9b4a38b53a5a",
        "part": "whole"
       },
       "id": "4962925a-3799-425d-89b0-ccae3b281cd0"
      }
     }
    },
    "0ec8d92f-c24c-47b3-ba8a-3f381bda1871": {
     "id": "0ec8d92f-c24c-47b3-ba8a-3f381bda1871",
     "prev": "b4d962fe-dfbb-4e9c-ac5f-83f36e0d599e",
     "regions": {
      "612033ed-5f7f-40af-a382-32091d7cdf69": {
       "attrs": {
        "height": 0.8,
        "width": 0.8,
        "x": 0.1,
        "y": 0.1
       },
       "content": {
        "cell": "b581bd37-454e-4c3a-9d1a-74b1c51ad63d",
        "part": "whole"
       },
       "id": "612033ed-5f7f-40af-a382-32091d7cdf69"
      }
     }
    },
    "0fa3ef25-03c7-4554-b43b-a426e667202c": {
     "id": "0fa3ef25-03c7-4554-b43b-a426e667202c",
     "prev": "a6f3b41c-abda-4c9a-b1d2-85a9f982acbe",
     "regions": {
      "77e384b2-2dd7-4614-9478-45917fbbf544": {
       "attrs": {
        "height": 0.8,
        "width": 0.8,
        "x": 0.1,
        "y": 0.1
       },
       "content": {
        "cell": "bf889043-c46d-4dec-8a33-9d3818d33789",
        "part": "whole"
       },
       "id": "77e384b2-2dd7-4614-9478-45917fbbf544"
      }
     }
    },
    "1092968a-2b2d-4a98-ada6-7f342433b600": {
     "id": "1092968a-2b2d-4a98-ada6-7f342433b600",
     "prev": "920ed39d-7ffc-47e9-b37a-9d167fcdd4dd",
     "regions": {
      "04dd8a0d-ffa6-4c22-9420-5b7cfb5fad1f": {
       "attrs": {
        "height": 0.8,
        "width": 0.8,
        "x": 0.1,
        "y": 0.1
       },
       "content": {
        "cell": "cc75003e-7d31-423a-88ae-a68d32d08136",
        "part": "whole"
       },
       "id": "04dd8a0d-ffa6-4c22-9420-5b7cfb5fad1f"
      }
     }
    },
    "1a34a6a8-bba0-4998-895e-dae5c00e6540": {
     "id": "1a34a6a8-bba0-4998-895e-dae5c00e6540",
     "prev": "b89c0cc2-8e96-47ba-9eb4-f5369cc2d8d4",
     "regions": {
      "6b87dd1e-b7fe-475b-8127-082ce2394c8d": {
       "attrs": {
        "height": 0.8,
        "width": 0.8,
        "x": 0.1,
        "y": 0.1
       },
       "content": {
        "cell": "4891e127-324c-4e91-985c-960ff5d75ae7",
        "part": "whole"
       },
       "id": "6b87dd1e-b7fe-475b-8127-082ce2394c8d"
      }
     }
    },
    "1a9a6c4a-be18-4f70-8f92-540ced7d9689": {
     "id": "1a9a6c4a-be18-4f70-8f92-540ced7d9689",
     "prev": "46c55b5e-2dbe-4624-8228-05f86aa3c63a",
     "regions": {
      "d6981bd2-6c29-4504-8b1e-b178f839d072": {
       "attrs": {
        "height": 0.8,
        "width": 0.8,
        "x": 0.1,
        "y": 0.1
       },
       "content": {
        "cell": "18cab202-bc69-4d82-ba59-caed5f9f5047",
        "part": "whole"
       },
       "id": "d6981bd2-6c29-4504-8b1e-b178f839d072"
      }
     }
    },
    "1ca912dd-edb4-43c9-8606-3b3e8826cf0e": {
     "id": "1ca912dd-edb4-43c9-8606-3b3e8826cf0e",
     "prev": "bee316ac-a522-4d95-b7df-c9ae969a6af4",
     "regions": {
      "1864e9fc-b21e-400b-b4b3-3131b407edb6": {
       "attrs": {
        "height": 0.8,
        "width": 0.8,
        "x": 0.1,
        "y": 0.1
       },
       "content": {
        "cell": "4ee7242e-24cb-4e0e-bd69-e338e5d9860e",
        "part": "whole"
       },
       "id": "1864e9fc-b21e-400b-b4b3-3131b407edb6"
      }
     }
    },
    "239a5d06-07fc-4d0b-a132-b6a9c0723553": {
     "id": "239a5d06-07fc-4d0b-a132-b6a9c0723553",
     "prev": "1a34a6a8-bba0-4998-895e-dae5c00e6540",
     "regions": {
      "25d4e2ff-4ef1-4b7d-88f4-2c71b548e0b8": {
       "attrs": {
        "height": 0.8,
        "width": 0.8,
        "x": 0.1,
        "y": 0.1
       },
       "content": {
        "cell": "52b49a4f-9c6d-4a64-96b8-04a9ba4b9f54",
        "part": "whole"
       },
       "id": "25d4e2ff-4ef1-4b7d-88f4-2c71b548e0b8"
      }
     }
    },
    "27480217-7c68-448c-a4a3-34940ff69225": {
     "id": "27480217-7c68-448c-a4a3-34940ff69225",
     "prev": "8e607363-2b6b-4da7-96b6-efc275f1deca",
     "regions": {
      "fdc18e4c-c747-4de5-bdd4-12012370c179": {
       "attrs": {
        "height": 0.8,
        "width": 0.8,
        "x": 0.1,
        "y": 0.1
       },
       "content": {
        "cell": "abd7647f-4d53-4285-b743-23d47509d620",
        "part": "whole"
       },
       "id": "fdc18e4c-c747-4de5-bdd4-12012370c179"
      }
     }
    },
    "2dd658da-68ac-479e-8e5c-8a77ed44a624": {
     "id": "2dd658da-68ac-479e-8e5c-8a77ed44a624",
     "prev": "e7a0b178-9a33-4701-b738-2eaecda45478",
     "regions": {
      "df359b6d-8de7-4ab5-8106-0ff34f6f8f11": {
       "attrs": {
        "height": 0.8,
        "width": 0.8,
        "x": 0.1,
        "y": 0.1
       },
       "content": {
        "cell": "bbe69307-aa5e-420f-8753-d0eaece285ee",
        "part": "whole"
       },
       "id": "df359b6d-8de7-4ab5-8106-0ff34f6f8f11"
      }
     }
    },
    "331c5f70-029f-4fe9-8b40-7e41e5199c3f": {
     "id": "331c5f70-029f-4fe9-8b40-7e41e5199c3f",
     "prev": "48e00c48-d537-4caa-9ac9-f6f0604fd510",
     "regions": {
      "f16016ee-3c82-4a2a-a281-e9a4edba42b8": {
       "attrs": {
        "height": 0.8,
        "width": 0.8,
        "x": 0.1,
        "y": 0.1
       },
       "content": {
        "cell": "02b30995-d8ff-4b31-8011-930429a338a2",
        "part": "whole"
       },
       "id": "f16016ee-3c82-4a2a-a281-e9a4edba42b8"
      }
     }
    },
    "3427360c-79c5-4f13-9d0e-2bf4cb447ee1": {
     "id": "3427360c-79c5-4f13-9d0e-2bf4cb447ee1",
     "prev": "ea713ab6-1e9b-41ab-a8fb-17190e415dc2",
     "regions": {
      "ec3d6d23-68f4-4a27-818e-a08e8c277f7e": {
       "attrs": {
        "height": 0.8,
        "width": 0.8,
        "x": 0.1,
        "y": 0.1
       },
       "content": {
        "cell": "a6950245-a7da-4dde-9393-11b2947a6c5b",
        "part": "whole"
       },
       "id": "ec3d6d23-68f4-4a27-818e-a08e8c277f7e"
      }
     }
    },
    "342e6776-0eff-496a-a003-65ff2766e7a3": {
     "id": "342e6776-0eff-496a-a003-65ff2766e7a3",
     "prev": "049f7e46-3919-487c-b9e1-0a006addb15f",
     "regions": {
      "3aadee53-ec22-443d-8657-7a07ab24447e": {
       "attrs": {
        "height": 0.8,
        "width": 0.8,
        "x": 0.1,
        "y": 0.1
       },
       "content": {
        "cell": "7e3ca1fe-eec8-4e82-9339-0e6bc0da940c",
        "part": "whole"
       },
       "id": "3aadee53-ec22-443d-8657-7a07ab24447e"
      }
     }
    },
    "3e11e765-0b41-4432-aeff-d42f1c6ae43c": {
     "id": "3e11e765-0b41-4432-aeff-d42f1c6ae43c",
     "prev": "d23b4762-811d-4443-b13a-df68530f733b",
     "regions": {
      "d0cafd6c-f1d4-4c56-a598-e88066fcd61b": {
       "attrs": {
        "height": 0.8,
        "width": 0.8,
        "x": 0.1,
        "y": 0.1
       },
       "content": {
        "cell": "8ff67d11-51cf-4cf1-9895-b998c008fed0",
        "part": "whole"
       },
       "id": "d0cafd6c-f1d4-4c56-a598-e88066fcd61b"
      }
     }
    },
    "3f2bb323-5f28-47d2-af7d-d90e63120299": {
     "id": "3f2bb323-5f28-47d2-af7d-d90e63120299",
     "prev": "3e11e765-0b41-4432-aeff-d42f1c6ae43c",
     "regions": {
      "63066a45-2cea-47c6-b1c3-1581379770c1": {
       "attrs": {
        "height": 0.8,
        "width": 0.8,
        "x": 0.1,
        "y": 0.1
       },
       "content": {
        "cell": "4b0ddd24-f892-4c7d-8959-ec92a83bf5e5",
        "part": "whole"
       },
       "id": "63066a45-2cea-47c6-b1c3-1581379770c1"
      }
     }
    },
    "46c55b5e-2dbe-4624-8228-05f86aa3c63a": {
     "id": "46c55b5e-2dbe-4624-8228-05f86aa3c63a",
     "prev": "a0b0bf90-e2bb-42db-a4b7-56a80654d8b6",
     "regions": {
      "15379cf6-378d-4b8d-a5cc-ae02c706b152": {
       "attrs": {
        "height": 0.8,
        "width": 0.8,
        "x": 0.1,
        "y": 0.1
       },
       "content": {
        "cell": "a304b0dd-3f74-463c-a424-6a8819f8fd50",
        "part": "whole"
       },
       "id": "15379cf6-378d-4b8d-a5cc-ae02c706b152"
      }
     }
    },
    "47c45876-f28e-4ba8-be7d-1985df8f8e27": {
     "id": "47c45876-f28e-4ba8-be7d-1985df8f8e27",
     "prev": "8c39424a-01eb-4d1a-9c87-9c0735e240f2",
     "regions": {
      "0b9af22b-0bc5-4c53-9025-55117dfe7059": {
       "attrs": {
        "height": 0.8,
        "width": 0.8,
        "x": 0.1,
        "y": 0.1
       },
       "content": {
        "cell": "93a7a4e4-1e41-4211-88de-f5542fd52ed7",
        "part": "whole"
       },
       "id": "0b9af22b-0bc5-4c53-9025-55117dfe7059"
      }
     }
    },
    "48e00c48-d537-4caa-9ac9-f6f0604fd510": {
     "id": "48e00c48-d537-4caa-9ac9-f6f0604fd510",
     "prev": "b1446001-a118-4374-a3e7-3f622c0bc867",
     "regions": {
      "c64607a6-9690-4b4c-9e5c-14f94ff6a542": {
       "attrs": {
        "height": 0.8,
        "width": 0.8,
        "x": 0.1,
        "y": 0.1
       },
       "content": {
        "cell": "79dd1181-2a8f-4edc-ab2a-8ae48d90a4fa",
        "part": "whole"
       },
       "id": "c64607a6-9690-4b4c-9e5c-14f94ff6a542"
      }
     }
    },
    "49d79e7a-bb36-48bf-a79d-02fc2a0356cb": {
     "id": "49d79e7a-bb36-48bf-a79d-02fc2a0356cb",
     "prev": "b1fc2fbb-3ff8-4d58-a201-f44bd7943b01",
     "regions": {
      "8f46e26b-1b97-4bd0-9ef9-1919460ee1f0": {
       "attrs": {
        "height": 0.8,
        "width": 0.8,
        "x": 0.1,
        "y": 0.1
       },
       "content": {
        "cell": "697004b8-be6a-4bf0-a1b1-52b026147b1e",
        "part": "whole"
       },
       "id": "8f46e26b-1b97-4bd0-9ef9-1919460ee1f0"
      }
     }
    },
    "4dd023e4-ea8d-4b06-bdd2-780c8887d0f5": {
     "id": "4dd023e4-ea8d-4b06-bdd2-780c8887d0f5",
     "prev": null,
     "regions": {
      "3ce2c72a-b982-4556-94aa-325ca9881f7b": {
       "attrs": {
        "height": 0.8,
        "width": 0.8,
        "x": 0.1,
        "y": 0.1
       },
       "content": {
        "cell": "42d1fdd0-de3e-48ab-9114-5cfb83aee4bc",
        "part": "whole"
       },
       "id": "3ce2c72a-b982-4556-94aa-325ca9881f7b"
      }
     }
    },
    "4fca9560-b9a7-4c7b-8e4e-b59c3857b82e": {
     "id": "4fca9560-b9a7-4c7b-8e4e-b59c3857b82e",
     "prev": "89fb8321-adc5-4b92-b83d-067bd401a150",
     "regions": {
      "3737ea1a-9609-4f51-9432-85b107242d84": {
       "attrs": {
        "height": 0.8,
        "width": 0.8,
        "x": 0.1,
        "y": 0.1
       },
       "content": {
        "cell": "22566dbb-5b27-4bc2-b2f0-b6f47106ac12",
        "part": "whole"
       },
       "id": "3737ea1a-9609-4f51-9432-85b107242d84"
      }
     }
    },
    "5cc9b881-e3a8-4b47-b596-372efd113a5d": {
     "id": "5cc9b881-e3a8-4b47-b596-372efd113a5d",
     "prev": "0ec8d92f-c24c-47b3-ba8a-3f381bda1871",
     "regions": {
      "5610d338-4177-4a16-baae-7f733a59e1e8": {
       "attrs": {
        "height": 0.8,
        "width": 0.8,
        "x": 0.1,
        "y": 0.1
       },
       "content": {
        "cell": "734d75c2-000a-49c1-8234-2cce4e4d7158",
        "part": "whole"
       },
       "id": "5610d338-4177-4a16-baae-7f733a59e1e8"
      }
     }
    },
    "5f89995c-ec9e-43b3-82aa-119b316e2c55": {
     "id": "5f89995c-ec9e-43b3-82aa-119b316e2c55",
     "prev": "7f8c9f38-0593-49ad-866e-b1a4d3d98cf6",
     "regions": {
      "623db2e1-11c5-4e23-84da-7b5e8cc3b398": {
       "attrs": {
        "height": 0.8,
        "width": 0.8,
        "x": 0.1,
        "y": 0.1
       },
       "content": {
        "cell": "959e57e5-1101-44f7-85fc-5108f6697916",
        "part": "whole"
       },
       "id": "623db2e1-11c5-4e23-84da-7b5e8cc3b398"
      }
     }
    },
    "67cc5aef-d80c-43c5-98c5-f3956d1b89a8": {
     "id": "67cc5aef-d80c-43c5-98c5-f3956d1b89a8",
     "prev": "bed87459-16f9-4cfb-9842-83392de234c4",
     "regions": {
      "26037bd5-6e37-40a9-926d-050e20168237": {
       "attrs": {
        "height": 0.8,
        "width": 0.8,
        "x": 0.1,
        "y": 0.1
       },
       "content": {
        "cell": "5c6679e3-fc3e-4a51-ae28-fd65e62aae94",
        "part": "whole"
       },
       "id": "26037bd5-6e37-40a9-926d-050e20168237"
      }
     }
    },
    "6e3d43f9-30e9-4ba0-b877-83733d496637": {
     "id": "6e3d43f9-30e9-4ba0-b877-83733d496637",
     "prev": "aeedacba-2d87-4a05-ad5d-ea27fb5c569f",
     "regions": {
      "1936888d-ecc0-451d-9bdb-dff06051465d": {
       "attrs": {
        "height": 0.8,
        "width": 0.8,
        "x": 0.1,
        "y": 0.1
       },
       "content": {
        "cell": "d0bc45b9-13c9-43bc-a74b-b3d40921e962",
        "part": "whole"
       },
       "id": "1936888d-ecc0-451d-9bdb-dff06051465d"
      }
     }
    },
    "70541306-e64b-416f-81b2-104c2648f80a": {
     "id": "70541306-e64b-416f-81b2-104c2648f80a",
     "prev": "9f2dc6b0-3c28-43cf-bef9-33d09b1bd75a",
     "regions": {
      "99748177-a384-4ed9-80d1-343b10927373": {
       "attrs": {
        "height": 0.8,
        "width": 0.8,
        "x": 0.1,
        "y": 0.1
       },
       "content": {
        "cell": "213f2dae-d462-4a8d-91a1-cff14db9be36",
        "part": "whole"
       },
       "id": "99748177-a384-4ed9-80d1-343b10927373"
      }
     }
    },
    "7f8c9f38-0593-49ad-866e-b1a4d3d98cf6": {
     "id": "7f8c9f38-0593-49ad-866e-b1a4d3d98cf6",
     "prev": "1ca912dd-edb4-43c9-8606-3b3e8826cf0e",
     "regions": {
      "8365c6af-4446-4c53-a624-f7481a3b311a": {
       "attrs": {
        "height": 0.8,
        "width": 0.8,
        "x": 0.1,
        "y": 0.1
       },
       "content": {
        "cell": "a1a0c32b-c94c-4df2-80fe-3ac6906fa33b",
        "part": "whole"
       },
       "id": "8365c6af-4446-4c53-a624-f7481a3b311a"
      }
     }
    },
    "80c30348-030a-4dc7-9da7-0b64b6a831b7": {
     "id": "80c30348-030a-4dc7-9da7-0b64b6a831b7",
     "prev": "b915b85e-285e-4d5b-bf7e-27322006e3ce",
     "regions": {
      "b346d321-eb8e-4491-b62e-066a34fac9dc": {
       "attrs": {
        "height": 0.8,
        "width": 0.8,
        "x": 0.1,
        "y": 0.1
       },
       "content": {
        "cell": "36fb0966-f36f-4ac4-9f39-3a364e9f77a2",
        "part": "whole"
       },
       "id": "b346d321-eb8e-4491-b62e-066a34fac9dc"
      }
     }
    },
    "83fbb787-7ccc-4c1c-bbd6-bd25e93110c3": {
     "id": "83fbb787-7ccc-4c1c-bbd6-bd25e93110c3",
     "prev": "2dd658da-68ac-479e-8e5c-8a77ed44a624",
     "regions": {
      "9a8fa446-6f5e-4fa1-b5ff-b0667369e706": {
       "attrs": {
        "height": 0.8,
        "width": 0.8,
        "x": 0.1,
        "y": 0.1
       },
       "content": {
        "cell": "5e1073a5-7285-4a3a-817d-9d2243f9b96a",
        "part": "whole"
       },
       "id": "9a8fa446-6f5e-4fa1-b5ff-b0667369e706"
      }
     }
    },
    "87cd5b5c-4d18-43ef-9846-1a3f3aacdc55": {
     "id": "87cd5b5c-4d18-43ef-9846-1a3f3aacdc55",
     "prev": "70541306-e64b-416f-81b2-104c2648f80a",
     "regions": {
      "fe297712-e6f3-45da-9932-8ccef6e822fa": {
       "attrs": {
        "height": 0.8,
        "width": 0.8,
        "x": 0.1,
        "y": 0.1
       },
       "content": {
        "cell": "5b86f151-99ae-4d4c-a386-16cad38379a7",
        "part": "whole"
       },
       "id": "fe297712-e6f3-45da-9932-8ccef6e822fa"
      }
     }
    },
    "89fb8321-adc5-4b92-b83d-067bd401a150": {
     "id": "89fb8321-adc5-4b92-b83d-067bd401a150",
     "prev": "49d79e7a-bb36-48bf-a79d-02fc2a0356cb",
     "regions": {
      "67d6cd24-18e2-40c7-800d-d243f51fc302": {
       "attrs": {
        "height": 0.8,
        "width": 0.8,
        "x": 0.1,
        "y": 0.1
       },
       "content": {
        "cell": "634015de-5d69-4be0-bc85-04687e0d5e23",
        "part": "whole"
       },
       "id": "67d6cd24-18e2-40c7-800d-d243f51fc302"
      }
     }
    },
    "8c39424a-01eb-4d1a-9c87-9c0735e240f2": {
     "id": "8c39424a-01eb-4d1a-9c87-9c0735e240f2",
     "prev": "4dd023e4-ea8d-4b06-bdd2-780c8887d0f5",
     "regions": {
      "70f88ee8-4ca5-43d7-a75c-28b7fd02159c": {
       "attrs": {
        "height": 0.8,
        "width": 0.8,
        "x": 0.1,
        "y": 0.1
       },
       "content": {
        "cell": "53584c84-bff3-46ba-8ba9-71fa916893b0",
        "part": "whole"
       },
       "id": "70f88ee8-4ca5-43d7-a75c-28b7fd02159c"
      }
     }
    },
    "8cff96cc-3e41-4fbb-a7dc-64982dd9b562": {
     "id": "8cff96cc-3e41-4fbb-a7dc-64982dd9b562",
     "prev": "5f89995c-ec9e-43b3-82aa-119b316e2c55",
     "regions": {
      "7401d93c-42f6-45a3-812a-5bb81221b353": {
       "attrs": {
        "height": 0.8,
        "width": 0.8,
        "x": 0.1,
        "y": 0.1
       },
       "content": {
        "cell": "d788d7dc-f076-48b5-9d0f-dfc3573f8c8b",
        "part": "whole"
       },
       "id": "7401d93c-42f6-45a3-812a-5bb81221b353"
      }
     }
    },
    "8e607363-2b6b-4da7-96b6-efc275f1deca": {
     "id": "8e607363-2b6b-4da7-96b6-efc275f1deca",
     "prev": "0b84c39b-940e-4bef-935d-9a75c4d415f3",
     "regions": {
      "56c9c27b-a8a3-418f-9e5b-98b8255cc7e1": {
       "attrs": {
        "height": 0.8,
        "width": 0.8,
        "x": 0.1,
        "y": 0.1
       },
       "content": {
        "cell": "c80dc777-60bc-4409-82f1-926a972dc980",
        "part": "whole"
       },
       "id": "56c9c27b-a8a3-418f-9e5b-98b8255cc7e1"
      }
     }
    },
    "920ed39d-7ffc-47e9-b37a-9d167fcdd4dd": {
     "id": "920ed39d-7ffc-47e9-b37a-9d167fcdd4dd",
     "prev": "1a9a6c4a-be18-4f70-8f92-540ced7d9689",
     "regions": {
      "c8286bfe-488c-4f1e-a234-e69276236638": {
       "attrs": {
        "height": 0.8,
        "width": 0.8,
        "x": 0.1,
        "y": 0.1
       },
       "content": {
        "cell": "b16d440b-2acf-401e-adcf-3946e8ede1f8",
        "part": "whole"
       },
       "id": "c8286bfe-488c-4f1e-a234-e69276236638"
      }
     }
    },
    "9a8cb767-c66b-4244-be4a-fb2d770fa9de": {
     "id": "9a8cb767-c66b-4244-be4a-fb2d770fa9de",
     "prev": "da1085f8-caf6-4f16-aa28-a3ec0fc25c7b",
     "regions": {
      "1a498959-bf5c-4442-ae07-67aa9e9b79dc": {
       "attrs": {
        "height": 0.8,
        "width": 0.8,
        "x": 0.1,
        "y": 0.1
       },
       "content": {
        "cell": "f62827c9-693d-49c2-8885-f9c1f423a9e4",
        "part": "whole"
       },
       "id": "1a498959-bf5c-4442-ae07-67aa9e9b79dc"
      }
     }
    },
    "9f2dc6b0-3c28-43cf-bef9-33d09b1bd75a": {
     "id": "9f2dc6b0-3c28-43cf-bef9-33d09b1bd75a",
     "prev": "f701a67c-bb25-45de-858a-cc11147732d0",
     "regions": {
      "3bbe79f0-a5cd-4d3a-b03b-d58c1098eaa9": {
       "attrs": {
        "height": 0.8,
        "width": 0.8,
        "x": 0.1,
        "y": 0.1
       },
       "content": {
        "cell": "d9df0e0d-1475-4370-9209-d25741d44e00",
        "part": "whole"
       },
       "id": "3bbe79f0-a5cd-4d3a-b03b-d58c1098eaa9"
      }
     }
    },
    "9f8c83c4-f4a7-4d19-a89d-fec6f650eaf0": {
     "id": "9f8c83c4-f4a7-4d19-a89d-fec6f650eaf0",
     "prev": "9a8cb767-c66b-4244-be4a-fb2d770fa9de",
     "regions": {
      "40fcf0c5-c56d-4cf8-bfde-401eb2ea73ec": {
       "attrs": {
        "height": 0.8,
        "width": 0.8,
        "x": 0.1,
        "y": 0.1
       },
       "content": {
        "cell": "f8172f7f-0e05-48aa-9455-ba41b0a07cad",
        "part": "whole"
       },
       "id": "40fcf0c5-c56d-4cf8-bfde-401eb2ea73ec"
      }
     }
    },
    "a0b0bf90-e2bb-42db-a4b7-56a80654d8b6": {
     "id": "a0b0bf90-e2bb-42db-a4b7-56a80654d8b6",
     "prev": "47c45876-f28e-4ba8-be7d-1985df8f8e27",
     "regions": {
      "c69e3895-b4c6-4ff3-94b3-b41d135c4b48": {
       "attrs": {
        "height": 0.8,
        "width": 0.8,
        "x": 0.1,
        "y": 0.1
       },
       "content": {
        "cell": "ed217100-a516-47fd-b614-1bdb81799736",
        "part": "whole"
       },
       "id": "c69e3895-b4c6-4ff3-94b3-b41d135c4b48"
      }
     }
    },
    "a6f3b41c-abda-4c9a-b1d2-85a9f982acbe": {
     "id": "a6f3b41c-abda-4c9a-b1d2-85a9f982acbe",
     "prev": "b9e56378-8f4d-499f-bbc0-8ff61c8b3b09",
     "regions": {
      "ac4cad5f-fc10-4118-9063-37863cc67f2a": {
       "attrs": {
        "height": 0.8,
        "width": 0.8,
        "x": 0.1,
        "y": 0.1
       },
       "content": {
        "cell": "37c6e866-4de8-4835-8c61-b0f339d8777e",
        "part": "whole"
       },
       "id": "ac4cad5f-fc10-4118-9063-37863cc67f2a"
      }
     }
    },
    "aeedacba-2d87-4a05-ad5d-ea27fb5c569f": {
     "id": "aeedacba-2d87-4a05-ad5d-ea27fb5c569f",
     "prev": "1092968a-2b2d-4a98-ada6-7f342433b600",
     "regions": {
      "73f340f8-66c5-43de-9e8e-7236ee76e531": {
       "attrs": {
        "height": 0.8,
        "width": 0.8,
        "x": 0.1,
        "y": 0.1
       },
       "content": {
        "cell": "5f1dc4db-f919-4060-84ff-d677f45171f2",
        "part": "whole"
       },
       "id": "73f340f8-66c5-43de-9e8e-7236ee76e531"
      }
     }
    },
    "b1446001-a118-4374-a3e7-3f622c0bc867": {
     "id": "b1446001-a118-4374-a3e7-3f622c0bc867",
     "prev": "6e3d43f9-30e9-4ba0-b877-83733d496637",
     "regions": {
      "dcb928ca-4793-45e6-a955-9cc50a69ff73": {
       "attrs": {
        "height": 0.8,
        "width": 0.8,
        "x": 0.1,
        "y": 0.1
       },
       "content": {
        "cell": "b301db00-07cb-408d-8273-fc02b6bf19b7",
        "part": "whole"
       },
       "id": "dcb928ca-4793-45e6-a955-9cc50a69ff73"
      }
     }
    },
    "b1fc2fbb-3ff8-4d58-a201-f44bd7943b01": {
     "id": "b1fc2fbb-3ff8-4d58-a201-f44bd7943b01",
     "prev": "3f2bb323-5f28-47d2-af7d-d90e63120299",
     "regions": {
      "a30d2c58-8dc3-4d91-a211-35ee68006c32": {
       "attrs": {
        "height": 0.8,
        "width": 0.8,
        "x": 0.1,
        "y": 0.1
       },
       "content": {
        "cell": "27c71ea2-5791-4459-a1dc-1bff4e2e53d5",
        "part": "whole"
       },
       "id": "a30d2c58-8dc3-4d91-a211-35ee68006c32"
      }
     }
    },
    "b2015a7e-0fbd-4646-aa45-d3771bd82766": {
     "id": "b2015a7e-0fbd-4646-aa45-d3771bd82766",
     "prev": "83fbb787-7ccc-4c1c-bbd6-bd25e93110c3",
     "regions": {
      "6f3e5974-1a39-4ed0-9cb1-ed7902af4040": {
       "attrs": {
        "height": 0.8,
        "width": 0.8,
        "x": 0.1,
        "y": 0.1
       },
       "content": {
        "cell": "12c61a3f-a7a0-4da9-b5ef-67bf9f95d65c",
        "part": "whole"
       },
       "id": "6f3e5974-1a39-4ed0-9cb1-ed7902af4040"
      }
     }
    },
    "b4d962fe-dfbb-4e9c-ac5f-83f36e0d599e": {
     "id": "b4d962fe-dfbb-4e9c-ac5f-83f36e0d599e",
     "prev": "27480217-7c68-448c-a4a3-34940ff69225",
     "regions": {
      "478c7e3e-4082-42a4-85df-74588af574b7": {
       "attrs": {
        "height": 0.8,
        "width": 0.8,
        "x": 0.1,
        "y": 0.1
       },
       "content": {
        "cell": "124cd262-5f0f-46d7-9bed-c972236f6f46",
        "part": "whole"
       },
       "id": "478c7e3e-4082-42a4-85df-74588af574b7"
      }
     }
    },
    "b7ebbe3f-034c-44c6-adef-a7228f6fa8db": {
     "id": "b7ebbe3f-034c-44c6-adef-a7228f6fa8db",
     "prev": "67cc5aef-d80c-43c5-98c5-f3956d1b89a8",
     "regions": {
      "950b7730-4cd6-4892-8a12-115918330b6c": {
       "attrs": {
        "height": 0.8,
        "width": 0.8,
        "x": 0.1,
        "y": 0.1
       },
       "content": {
        "cell": "6786b92b-66ce-4f44-975c-59beaf02ab82",
        "part": "whole"
       },
       "id": "950b7730-4cd6-4892-8a12-115918330b6c"
      }
     }
    },
    "b89c0cc2-8e96-47ba-9eb4-f5369cc2d8d4": {
     "id": "b89c0cc2-8e96-47ba-9eb4-f5369cc2d8d4",
     "prev": "b2015a7e-0fbd-4646-aa45-d3771bd82766",
     "regions": {
      "b890a70b-bd3e-48f5-b41e-0985e08e12db": {
       "attrs": {
        "height": 0.8,
        "width": 0.8,
        "x": 0.1,
        "y": 0.1
       },
       "content": {
        "cell": "87e3529c-30b4-4779-9635-9e6f0fa78d5e",
        "part": "whole"
       },
       "id": "b890a70b-bd3e-48f5-b41e-0985e08e12db"
      }
     }
    },
    "b8e2e816-4949-471e-b2f1-ff78f59d9c85": {
     "id": "b8e2e816-4949-471e-b2f1-ff78f59d9c85",
     "prev": "342e6776-0eff-496a-a003-65ff2766e7a3",
     "regions": {
      "0cc0c973-77f0-490e-be6a-43d78ec517e4": {
       "attrs": {
        "height": 0.8,
        "width": 0.8,
        "x": 0.1,
        "y": 0.1
       },
       "content": {
        "cell": "824f1d5b-acf0-41ab-97c0-14fb35d80fd9",
        "part": "whole"
       },
       "id": "0cc0c973-77f0-490e-be6a-43d78ec517e4"
      }
     }
    },
    "b915b85e-285e-4d5b-bf7e-27322006e3ce": {
     "id": "b915b85e-285e-4d5b-bf7e-27322006e3ce",
     "prev": "0fa3ef25-03c7-4554-b43b-a426e667202c",
     "regions": {
      "a024a177-1528-49c2-bea2-387a812d702e": {
       "attrs": {
        "height": 0.8,
        "width": 0.8,
        "x": 0.1,
        "y": 0.1
       },
       "content": {
        "cell": "7a2567a4-4c90-4bce-ac49-a4f3a503be04",
        "part": "whole"
       },
       "id": "a024a177-1528-49c2-bea2-387a812d702e"
      }
     }
    },
    "b9e56378-8f4d-499f-bbc0-8ff61c8b3b09": {
     "id": "b9e56378-8f4d-499f-bbc0-8ff61c8b3b09",
     "prev": "b8e2e816-4949-471e-b2f1-ff78f59d9c85",
     "regions": {
      "4996f4c9-50cc-4c44-98f0-b494d16bd525": {
       "attrs": {
        "height": 0.8,
        "width": 0.8,
        "x": 0.1,
        "y": 0.1
       },
       "content": {
        "cell": "7daf6285-f054-447d-88ff-5805209b4520",
        "part": "whole"
       },
       "id": "4996f4c9-50cc-4c44-98f0-b494d16bd525"
      }
     }
    },
    "bed87459-16f9-4cfb-9842-83392de234c4": {
     "id": "bed87459-16f9-4cfb-9842-83392de234c4",
     "prev": "5cc9b881-e3a8-4b47-b596-372efd113a5d",
     "regions": {
      "8ee138a1-4246-47a0-bcbf-454f100c49e3": {
       "attrs": {
        "height": 0.8,
        "width": 0.8,
        "x": 0.1,
        "y": 0.1
       },
       "content": {
        "cell": "d91fb475-0c25-4724-b2ae-01f64b3e0288",
        "part": "whole"
       },
       "id": "8ee138a1-4246-47a0-bcbf-454f100c49e3"
      }
     }
    },
    "bee316ac-a522-4d95-b7df-c9ae969a6af4": {
     "id": "bee316ac-a522-4d95-b7df-c9ae969a6af4",
     "prev": "331c5f70-029f-4fe9-8b40-7e41e5199c3f",
     "regions": {
      "0d534d5d-5cf9-48db-92d5-cf4b25256ef8": {
       "attrs": {
        "height": 0.8,
        "width": 0.8,
        "x": 0.1,
        "y": 0.1
       },
       "content": {
        "cell": "bec00f00-f1e1-49c9-9c37-e9ee868a6c70",
        "part": "whole"
       },
       "id": "0d534d5d-5cf9-48db-92d5-cf4b25256ef8"
      }
     }
    },
    "cb2ced2e-fc38-4aaa-b245-d91645973652": {
     "id": "cb2ced2e-fc38-4aaa-b245-d91645973652",
     "prev": "239a5d06-07fc-4d0b-a132-b6a9c0723553",
     "regions": {
      "16aeb14d-5ffa-4d3b-a3c2-3ddc5c80e9fa": {
       "attrs": {
        "height": 0.8,
        "width": 0.8,
        "x": 0.1,
        "y": 0.1
       },
       "content": {
        "cell": "d4c60736-da9c-4ab3-b9f1-167eadca318e",
        "part": "whole"
       },
       "id": "16aeb14d-5ffa-4d3b-a3c2-3ddc5c80e9fa"
      }
     }
    },
    "d23b4762-811d-4443-b13a-df68530f733b": {
     "id": "d23b4762-811d-4443-b13a-df68530f733b",
     "prev": "cb2ced2e-fc38-4aaa-b245-d91645973652",
     "regions": {
      "8db89970-2d48-43b6-a83b-4ca1d1d0aca8": {
       "attrs": {
        "height": 0.8,
        "width": 0.8,
        "x": 0.1,
        "y": 0.1
       },
       "content": {
        "cell": "539473e8-6769-4447-b68c-8c18c0256cf3",
        "part": "whole"
       },
       "id": "8db89970-2d48-43b6-a83b-4ca1d1d0aca8"
      }
     }
    },
    "da1085f8-caf6-4f16-aa28-a3ec0fc25c7b": {
     "id": "da1085f8-caf6-4f16-aa28-a3ec0fc25c7b",
     "prev": "ee0e65fc-5929-47c4-b236-acd616a8e692",
     "regions": {
      "de0a9de4-94cc-48b9-85f9-0d5ac1f83ac9": {
       "attrs": {
        "height": 0.8,
        "width": 0.8,
        "x": 0.1,
        "y": 0.1
       },
       "content": {
        "cell": "f551b44a-73cc-4d52-a9c9-596e2494b2f0",
        "part": "whole"
       },
       "id": "de0a9de4-94cc-48b9-85f9-0d5ac1f83ac9"
      }
     }
    },
    "e7a0b178-9a33-4701-b738-2eaecda45478": {
     "id": "e7a0b178-9a33-4701-b738-2eaecda45478",
     "prev": "b7ebbe3f-034c-44c6-adef-a7228f6fa8db",
     "regions": {
      "575fe694-cec7-4b90-801c-4315187e4f55": {
       "attrs": {
        "height": 0.8,
        "width": 0.8,
        "x": 0.1,
        "y": 0.1
       },
       "content": {
        "cell": "2a5d56b3-cdc3-47cd-8f3f-f0763eb06f87",
        "part": "whole"
       },
       "id": "575fe694-cec7-4b90-801c-4315187e4f55"
      }
     }
    },
    "ea713ab6-1e9b-41ab-a8fb-17190e415dc2": {
     "id": "ea713ab6-1e9b-41ab-a8fb-17190e415dc2",
     "prev": "4fca9560-b9a7-4c7b-8e4e-b59c3857b82e",
     "regions": {
      "dca81e91-6f07-4bbd-828e-9f9287a16b44": {
       "attrs": {
        "height": 0.8,
        "width": 0.8,
        "x": 0.1,
        "y": 0.1
       },
       "content": {
        "cell": "f93695b2-81aa-4aaa-a631-ad0c49912563",
        "part": "whole"
       },
       "id": "dca81e91-6f07-4bbd-828e-9f9287a16b44"
      }
     }
    },
    "ee0e65fc-5929-47c4-b236-acd616a8e692": {
     "id": "ee0e65fc-5929-47c4-b236-acd616a8e692",
     "prev": "f9982443-393b-4bc4-a8ce-09fe9eff966f",
     "regions": {
      "f3d93a72-2dcd-4e9c-8512-5976df458e56": {
       "attrs": {
        "height": 0.8,
        "width": 0.8,
        "x": 0.1,
        "y": 0.1
       },
       "content": {
        "cell": "47326541-8771-44ee-b760-26617fb2c4f9",
        "part": "whole"
       },
       "id": "f3d93a72-2dcd-4e9c-8512-5976df458e56"
      }
     }
    },
    "f701a67c-bb25-45de-858a-cc11147732d0": {
     "id": "f701a67c-bb25-45de-858a-cc11147732d0",
     "prev": "80c30348-030a-4dc7-9da7-0b64b6a831b7",
     "regions": {
      "9059089a-3eb1-4d96-a38b-95c8466a0971": {
       "attrs": {
        "height": 0.8,
        "width": 0.8,
        "x": 0.1,
        "y": 0.1
       },
       "content": {
        "cell": "f7d10f04-1e8c-4c20-8832-dd203d2097fe",
        "part": "whole"
       },
       "id": "9059089a-3eb1-4d96-a38b-95c8466a0971"
      }
     }
    },
    "f9982443-393b-4bc4-a8ce-09fe9eff966f": {
     "id": "f9982443-393b-4bc4-a8ce-09fe9eff966f",
     "prev": "3427360c-79c5-4f13-9d0e-2bf4cb447ee1",
     "regions": {
      "efab1014-cefe-401f-b994-ea0e4a7920d0": {
       "attrs": {
        "height": 0.8,
        "width": 0.8,
        "x": 0.1,
        "y": 0.1
       },
       "content": {
        "cell": "b0ed3485-7f97-408a-9a91-6d80f42134f3",
        "part": "whole"
       },
       "id": "efab1014-cefe-401f-b994-ea0e4a7920d0"
      }
     }
    }
   },
   "themes": {}
  }
 },
 "nbformat": 4,
 "nbformat_minor": 0
}
